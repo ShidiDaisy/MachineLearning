{
 "cells": [
  {
   "cell_type": "code",
   "execution_count": 25,
   "metadata": {
    "collapsed": true
   },
   "outputs": [],
   "source": [
    "import numpy as np\n",
    "from sklearn.cluster import KMeans\n",
    "from sklearn.metrics import pairwise_distances_argmin_min\n",
    "from scipy.spatial.distance import cdist"
   ]
  },
  {
   "cell_type": "code",
   "execution_count": 19,
   "metadata": {
    "collapsed": true
   },
   "outputs": [],
   "source": [
    "font = FontProperties(fname='/System/Library/Fonts/Optima.ttc', size=10)"
   ]
  },
  {
   "cell_type": "markdown",
   "metadata": {},
   "source": [
    "## K-Means with Elbow Method"
   ]
  },
  {
   "cell_type": "code",
   "execution_count": 8,
   "metadata": {},
   "outputs": [
    {
     "data": {
      "text/plain": [
       "array([[0.87235234, 1.1360882 ],\n",
       "       [1.31407908, 0.88142469],\n",
       "       [0.72073542, 1.03385235],\n",
       "       [1.17920419, 1.20996204],\n",
       "       [1.06056511, 1.3215987 ],\n",
       "       [0.65949841, 1.23625793],\n",
       "       [0.59836063, 0.51586739],\n",
       "       [1.3829443 , 1.25994983],\n",
       "       [0.5899113 , 1.38533637],\n",
       "       [0.72786046, 1.04517673],\n",
       "       [3.97417469, 4.36207601],\n",
       "       [3.5740891 , 3.58698127],\n",
       "       [4.06908933, 4.2805473 ],\n",
       "       [3.60405112, 4.25470146],\n",
       "       [3.53558444, 3.51575381],\n",
       "       [3.63227986, 4.20415716],\n",
       "       [3.83675177, 3.91154562],\n",
       "       [4.31237346, 4.04327062],\n",
       "       [4.32584026, 4.09129506],\n",
       "       [4.03667863, 3.80739214]])"
      ]
     },
     "execution_count": 8,
     "metadata": {},
     "output_type": "execute_result"
    }
   ],
   "source": [
    "cluster1 = np.random.uniform(0.5, 1.5, (2, 10))\n",
    "cluster2 = np.random.uniform(3.5, 4.5, (2, 10))\n",
    "X = np.hstack((cluster1, cluster2)).T\n",
    "X"
   ]
  },
  {
   "cell_type": "code",
   "execution_count": 9,
   "metadata": {},
   "outputs": [
    {
     "data": {
      "text/plain": [
       "[<matplotlib.lines.Line2D at 0x1a15c2f908>]"
      ]
     },
     "execution_count": 9,
     "metadata": {},
     "output_type": "execute_result"
    },
    {
     "data": {
      "image/png": "[encoded data removed]",
      "text/plain": [
       "<matplotlib.figure.Figure at 0x1a15c2f128>"
      ]
     },
     "metadata": {},
     "output_type": "display_data"
    }
   ],
   "source": [
    "plt.figure()\n",
    "plt.axis([0,5,0,5])\n",
    "plt.grid(True)\n",
    "plt.plot(X[:,0],X[:,1],'k.')"
   ]
  },
  {
   "cell_type": "markdown",
   "metadata": {},
   "source": [
    "KMeans Cost Function: the sum of squared distances between each observation and its closest centroid\n",
    "scipy.spatial.distance.cdist: Computes distance between \"each pair\" of the two collections of inputs"
   ]
  },
  {
   "cell_type": "code",
   "execution_count": 12,
   "metadata": {},
   "outputs": [
    {
     "data": {
      "text/plain": [
       "array([[2.82842712, 4.24264069],\n",
       "       [1.41421356, 2.82842712]])"
      ]
     },
     "execution_count": 12,
     "metadata": {},
     "output_type": "execute_result"
    }
   ],
   "source": [
    "XA = [\n",
    "    [1,1],\n",
    "    [2,2]\n",
    "]\n",
    "XB = [[3,3],\n",
    "     [4,4]]\n",
    "Y = cdist(XA, XB, 'euclidean')\n",
    "Y"
   ]
  },
  {
   "cell_type": "markdown",
   "metadata": {},
   "source": [
    "Choose the number in first axis, which are the euclidean distance between obervation points and their centroids"
   ]
  },
  {
   "cell_type": "code",
   "execution_count": 13,
   "metadata": {},
   "outputs": [
    {
     "data": {
      "text/plain": [
       "array([2.82842712, 1.41421356])"
      ]
     },
     "execution_count": 13,
     "metadata": {},
     "output_type": "execute_result"
    }
   ],
   "source": [
    "npmin = np.min(Y, axis=1)\n",
    "npmin"
   ]
  },
  {
   "cell_type": "code",
   "execution_count": 24,
   "metadata": {},
   "outputs": [
    {
     "data": {
      "text/plain": [
       "<matplotlib.text.Text at 0x1a168e7f60>"
      ]
     },
     "execution_count": 24,
     "metadata": {},
     "output_type": "execute_result"
    },
    {
     "data": {
      "image/png": "[encoded data removed]",
      "text/plain": [
       "<matplotlib.figure.Figure at 0x1a16836710>"
      ]
     },
     "metadata": {},
     "output_type": "display_data"
    }
   ],
   "source": [
    "K = range(1, 10)\n",
    "costfunction = []\n",
    "for k in K:\n",
    "    kmeans = KMeans(n_clusters=k)\n",
    "    kmeans.fit(X)\n",
    "    costfunction.append(sum(np.min(cdist(X, kmeans.cluster_centers_, 'euclidean'), axis=1))/X.shape[0])\n",
    "plt.plot(K, costfunction, 'bx-') #color: blue, dot:x, line:-\n",
    "plt.xlabel('k')\n",
    "plt.ylabel('Cost Function')\n",
    "plt.title('Use Elbow Method to determine k')"
   ]
  },
  {
   "cell_type": "markdown",
   "metadata": {},
   "source": [
    "## Get the nearest point to the centroid for each cluster"
   ]
  },
  {
   "cell_type": "code",
   "execution_count": 26,
   "metadata": {},
   "outputs": [
    {
     "data": {
      "text/plain": [
       "array([[ 0.79510369,  1.30403718, -0.25823651,  0.00883854],\n",
       "       [ 0.60310793, -0.22134562, -1.22096606,  1.37239175],\n",
       "       [-1.17206415,  1.90814421, -0.39711316, -0.74658467],\n",
       "       [ 0.67938649,  0.68032088, -1.31104394, -0.769214  ],\n",
       "       [ 0.37114293, -2.0360935 , -0.71078423, -1.18363804],\n",
       "       [ 0.42891338, -0.52082674, -1.58814929,  0.32641069],\n",
       "       [-1.87707487, -0.11826366,  0.57669957,  0.24874539],\n",
       "       [-1.14936894, -1.90292369,  0.80849995,  0.42947755],\n",
       "       [-1.67197423, -1.53414993,  0.67402105, -2.41220209],\n",
       "       [-0.41434495,  0.08913168, -1.64651484, -1.06290855]])"
      ]
     },
     "execution_count": 26,
     "metadata": {},
     "output_type": "execute_result"
    }
   ],
   "source": [
    "X = np.random.randn(10, 4)\n",
    "X"
   ]
  },
  {
   "cell_type": "markdown",
   "metadata": {},
   "source": [
    "#### pairwise_distances_argmin_min: compute minimum distances between one point and a set of points\n",
    "#### closest contains the index of the point in x that is closest to each centriod. So X[3] is the closest point in X to centroid 0, and X[7]"
   ]
  },
  {
   "cell_type": "code",
   "execution_count": 29,
   "metadata": {},
   "outputs": [
    {
     "data": {
      "text/plain": [
       "array([3, 7])"
      ]
     },
     "execution_count": 29,
     "metadata": {},
     "output_type": "execute_result"
    }
   ],
   "source": [
    "km = KMeans(n_clusters=2).fit(X)\n",
    "closest, _ = pairwise_distances_argmin_min(km.cluster_centers_, X)\n",
    "closest"
   ]
  },
  {
   "cell_type": "code",
   "execution_count": null,
   "metadata": {
    "collapsed": true
   },
   "outputs": [],
   "source": []
  }
 ],
 "metadata": {
  "kernelspec": {
   "display_name": "Python 3",
   "language": "python",
   "name": "python3"
  },
  "language_info": {
   "codemirror_mode": {
    "name": "ipython",
    "version": 3
   },
   "file_extension": ".py",
   "mimetype": "text/x-python",
   "name": "python",
   "nbconvert_exporter": "python",
   "pygments_lexer": "ipython3",
   "version": "3.6.1"
  }
 },
 "nbformat": 4,
 "nbformat_minor": 2
}
